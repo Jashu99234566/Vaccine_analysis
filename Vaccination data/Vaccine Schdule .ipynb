{
 "cells": [
  {
   "cell_type": "code",
   "execution_count": 33,
   "metadata": {},
   "outputs": [
    {
     "data": {
      "text/plain": [
       "(  ISO_3_CODE COUNTRYNAME WHO_REGION    YEAR VACCINECODE  \\\n",
       " 0        ABW       Aruba       AMRO  2023.0  DTAPHIBIPV   \n",
       " 1        ABW       Aruba       AMRO  2023.0  DTAPHIBIPV   \n",
       " 2        ABW       Aruba       AMRO  2023.0  DTAPHIBIPV   \n",
       " 3        ABW       Aruba       AMRO  2023.0  DTAPHIBIPV   \n",
       " 4        ABW       Aruba       AMRO  2023.0     DTAPIPV   \n",
       " \n",
       "                 VACCINE_DESCRIPTION  SCHEDULEROUNDS  TARGETPOP  \\\n",
       " 0  DTaP-Hib-IPV (acellular) vaccine             1.0        NaN   \n",
       " 1  DTaP-Hib-IPV (acellular) vaccine             2.0        NaN   \n",
       " 2  DTaP-Hib-IPV (acellular) vaccine             3.0        NaN   \n",
       " 3  DTaP-Hib-IPV (acellular) vaccine             4.0    B_2YL_W   \n",
       " 4      DTaP-IPV (acellular) vaccine             5.0  B_CHILD_W   \n",
       " \n",
       "   TARGETPOP_DESCRIPTION   GEOAREA AGEADMINISTERED SOURCECOMMENT  \n",
       " 0       General/routine  NATIONAL              M2           NaN  \n",
       " 1       General/routine  NATIONAL              M4           NaN  \n",
       " 2       General/routine  NATIONAL              M6           NaN  \n",
       " 3       General/routine  NATIONAL             M15           NaN  \n",
       " 4       General/routine  NATIONAL              Y4           NaN  ,\n",
       "                                     Vaccine schedule\n",
       " 0               Source: WHO Immunization Data portal\n",
       " 1  For more information, https://www.who.int/team...\n",
       " 2  Data presented shows vaccines recommended by n...\n",
       " 3  Countries are requested to report the national...\n",
       " 4  Rationale: Monitoring vaccines that are includ...)"
      ]
     },
     "execution_count": 33,
     "metadata": {},
     "output_type": "execute_result"
    }
   ],
   "source": [
    "import pandas as pd\n",
    "\n",
    "# Load the Excel file\n",
    "file_path = r\"C:\\Users\\OMEN\\OneDrive\\Desktop\\vaccine-schedule-data.xlsx\"\n",
    "xls = pd.ExcelFile(file_path)\n",
    "\n",
    "# Load both sheets into DataFrames\n",
    "df_data = pd.read_excel(xls, sheet_name=\"Data\")\n",
    "df_reference = pd.read_excel(xls, sheet_name=\"Reference\")\n",
    "\n",
    "# Display first few rows\n",
    "df_data.head(), df_reference.head()\n"
   ]
  },
  {
   "cell_type": "code",
   "execution_count": 34,
   "metadata": {},
   "outputs": [],
   "source": [
    "# Check missing values in TARGETPOP column\n",
    "missing_targetpop = df_data[\"TARGETPOP\"].isna().sum()\n",
    "total_rows = len(df_data)"
   ]
  },
  {
   "cell_type": "code",
   "execution_count": 35,
   "metadata": {},
   "outputs": [
    {
     "data": {
      "text/plain": [
       "(np.int64(4258),\n",
       " 8053,\n",
       " array(['General/routine', 'Risk group(s)', 'Travellers', 'Health workers',\n",
       "        'HPV for females only', 'Adults', 'Pregnant women',\n",
       "        'Catch-up adults', 'Catch-up children',\n",
       "        'HPV administered to females and males', nan], dtype=object),\n",
       " array(['M2', 'M4', 'M6', 'M15', 'Y4', 'Y10', '1st contact', '+M1', '+M5',\n",
       "        '+M6', 'M1', 'M3', 'M9', 'Y11', nan, 'M12', '>=Y1', 'B', 'W6',\n",
       "        'W10', 'W14', 'M18', '+Y1', 'Y15-Y49', 'Y4-Y5', '<Y25', 'Y9-15',\n",
       "        '>Y18', '>=M6', 'Y1', 'Y2', 'Y15', '+W4', '+M6-Y1', '>Y4', 'Y6',\n",
       "        'Y13', '>Y9', 'M6-Y9', 'Y5', 'Y18', 'Y12', '>=Y65', 'M13', 'Y3',\n",
       "        'M5', 'Y5-Y6', 'Y15-Y16', '>=Y50', 'M15-M18', '+M2', 'M6-M24',\n",
       "        '>Y65', '+D7', '+D21', '+M6-M12', '+Y5', '1st Contact', 'W12',\n",
       "        'W18', 'Y14', 'Y15-Y45', 'M6-Y2', 'Y3-Y5', 'Y4-Y6', 'W16',\n",
       "        'Y26-Y30', 'Y36-Y40', 'Y46-Y50', 'Y56-Y60', 'Y66-Y70', 'Y76-Y80',\n",
       "        'Y17', '>=Y7', 'Y9-Y13', 'M6-M35', '>=Y3', '>=Y2', 'Y25', '>=Y19',\n",
       "        'Y12-Y13', 'M6-Y5', 'Y14-Y16', '>=Y70', 'Y70-Y79', 'Y71-Y79',\n",
       "        'M10-M11', 'Y7-Y15', '<Y21', 'Y9', 'Y10-Y13', '+M3', 'M12-M14',\n",
       "        'Y6-Y8', 'M6-Y18', 'M24', 'M30', 'M36', 'W8', 'Y12-Y14', '<M18',\n",
       "        'Y7-Y12', 'Y65', '+Y10', '+Y2', 'W38', 'M6-M59', 'M7', 'Y7', 'M16',\n",
       "        'W10-W24', 'W20-W32', 'Y35', 'Y45', 'Y55', 'Y10-Y19', '<=Y9',\n",
       "        'Y5-Y50', 'Y9-Y12', 'Y16', '>Y10', 'M3-M4', 'M4-M6', 'M18-Y2',\n",
       "        'Y5-Y7', 'Y9-Y14', 'Y14-Y18', 'M2-M18', 'D3-D5', 'Y1-Y4', '>Y3',\n",
       "        'M6-Y3', 'M6-M11', 'M12-M23', '+D3', '+D14', '+D28', '+W2',\n",
       "        'Y11-Y18', '+Y3', 'Y50', 'M18-M23', '>Y60', '<Y1', 'Y7-Y49', 'Y19',\n",
       "        'Y9-Y26', '>=Y60', 'M6-Y6', 'M6-M9', 'M12-M18', 'M19-M25',\n",
       "        'M26-M32', 'M33-M39', 'M40-M46', 'Y4.5', 'Y10-Y11', 'Y1.5', '+W6',\n",
       "        'W32', 'M6-M12', 'M1-Y12', 'B-Y12', 'Y11-Y16', '>=Y18', 'M6-Y4',\n",
       "        'M6-Y17', 'Y9-Y17', 'M18-Y6', 'M2-M12', 'Y2-Y3', 'M12-M15',\n",
       "        'Y4-Y7', 'Y11-Y15', 'Y11-Y14', '+M6-M10', 'Y5-Y10', 'M8', '+M12',\n",
       "        'W36', 'W60', 'A5', 'M6-Y59', '>Y58', 'Y20', 'Y2-Y5', 'M3.5',\n",
       "        'M5.5', '>=M12', '+M6-M18', 'Y11-Y12', 'Y3-Y4', '+M2-M6', 'M2-M3',\n",
       "        'M4-M5', 'M6-M8', 'M18-M20', 'M6-Y15', 'M11', '+M5-M13', '<=Y4',\n",
       "        'Y15-Y17', '<=Y17', 'Y2-Y17', 'W12-W32', '<=Y8', 'Y9-Y16', 'B-Y1',\n",
       "        'Y10-Y12', '+W4-W6', '<=Y18', 'Y65-Y84', 'Y2-Y6', '+Y6', 'Y1-Y59',\n",
       "        'Y11-Y13', 'Y16-Y18', 'Y1-Y5', '>M12', 'Y2-Y7', 'Y8-Y49',\n",
       "        'Y16-Y49', 'M12-M59', 'Y7-Y8', 'Y9-Y10', '>Y14', 'M24-Y6', '>Y26',\n",
       "        '+M1-M2', '>Y64', 'Y65-Y80', 'D1-D5', 'M4.5', 'Y6-Y7', '<Y7',\n",
       "        '<Y18', 'M6-Y7', '<Y5', 'Y14-Y15', 'Y1.5-Y11', '<M12', '<Y8',\n",
       "        '+W14', 'Y8-Y13', '<Y2', 'M42', 'M1-M2', 'Y2-Y65', '>=Y4', '>=M13',\n",
       "        '>=Y11', 'D28', 'M40', '>=Y16', 'Y1-Y15', 'W4', 'Y25-Y45',\n",
       "        'Y25-Y24', 'Y2-Y14', '+W8', 'B-D5', '+M3-M6', 'Y13-Y46', 'Y5-Y18',\n",
       "        'M15-M23', 'M23-M59', 'M6-M18', 'Y9-Y11', 'Y18-Y26', '>M6',\n",
       "        'M24-M47', 'Y19-Y64', 'Y2-Y18', 'Y18-Y25', 'Y60-Y75', '>Y1',\n",
       "        'M12-M35', 'Y7-Y10', 'Y19-Y26', 'B-W6', 'M45', '>Y5', '+M24',\n",
       "        '+M36', 'D2', 'Y24', 'Y60', 'W0', 'B-M1', 'M10', 'Y15-Y39',\n",
       "        'M16-M24', 'M9-M12', '>Y7', 'M6-M36', 'Y3-Y17', 'M13-M14',\n",
       "        'M13-M15', 'Y12-Y18', 'M5-M6', 'M36-Y17', 'M37', 'Y2.5', 'Y26',\n",
       "        'Y36', 'Y46', 'Y56', 'Y66', 'Y10-Y14', 'B-W2', 'B-M11', 'Y4.5-Y5',\n",
       "        'M6-Y13', '+D7-D30', 'Y3.6', 'Y9-Y45', 'Y3.5', '+M4', 'D2-D3',\n",
       "        'M15-M16', '>Y25', '<W33', 'M3-M12', '+W8-M6', 'D2-D5', 'M6-M23',\n",
       "        'Y1-Y17', 'Y4-Y18', 'Y22', 'Y32', 'Y42', 'Y52', 'Y62', 'Y72',\n",
       "        'Y30', 'Y40', '>Y2', '>M9', '>Y15', '>Y20', 'Y11-Y49', 'M36-M59',\n",
       "        '>=Y10', 'Y61', '>=Y15', 'Y13-Y14', 'Y5-Y16', 'B-M2', 'W9', 'W17',\n",
       "        'W23', 'W5', 'M14', 'Y7-Y18', 'Y50-Y85', 'Y25-Y35', 'Y14.5', 'M17',\n",
       "        'M22', 'M21', 'Y75', 'Y85', 'M23', '>=Y13', 'M9-Y59', '<D2',\n",
       "        '>Y34', '>Y19', '>=Y6', 'Y4-Y64', 'W7-W8', 'M16-M18', '<Y12',\n",
       "        'D0-Y5', 'Y2-Y59', 'W1', '>Y6', 'Y13-Y18', '+М1', '+Y1-Y2', 'D3',\n",
       "        'М3', 'М6', 'М18', 'M20', 'Y18-Y35', 'Y36-Y55', 'Y18-Y60', '+D30',\n",
       "        'М4.5', '>=М12', '>М9', 'W20', 'Y9-Y19', 'Y4-Y10', '+Y15',\n",
       "        'M11-M18', 'Y49', '+M1-M3', '+M5-M12', 'Y8', 'W6-M6', '+M7',\n",
       "        '>=Y25', 'W24', '>=Y55', 'B-M24', 'Y7-Y11', '>=M9', 'M9-Y55',\n",
       "        'М16-M23', 'М2', 'М4', 'М12', 'Y10-Y17', 'Y9-Y15', 'M48', 'D1',\n",
       "        '>=Y12', '>=Y5', 'M9-Y60', 'Y21', 'B-M12', 'Y6-Y39', 'Y17-Y18',\n",
       "        'Y1-Y45'], dtype=object))"
      ]
     },
     "execution_count": 35,
     "metadata": {},
     "output_type": "execute_result"
    }
   ],
   "source": [
    "# Check unique values in TARGETPOP_DESCRIPTION and AGEADMINISTERED\n",
    "unique_targetpop_desc = df_data[\"TARGETPOP_DESCRIPTION\"].unique()\n",
    "unique_ageadministered = df_data[\"AGEADMINISTERED\"].unique()\n",
    "\n",
    "missing_targetpop, total_rows, unique_targetpop_desc, unique_ageadministered\n"
   ]
  },
  {
   "cell_type": "code",
   "execution_count": 36,
   "metadata": {},
   "outputs": [],
   "source": [
    "# Check the most common TARGETPOP values for each TARGETPOP_DESCRIPTION\n",
    "targetpop_mapping = df_data.groupby(\"TARGETPOP_DESCRIPTION\")[\"TARGETPOP\"].agg(lambda x: x.mode()[0] if not x.mode().empty else None)"
   ]
  },
  {
   "cell_type": "code",
   "execution_count": 37,
   "metadata": {},
   "outputs": [
    {
     "data": {
      "text/plain": [
       "(TARGETPOP_DESCRIPTION\n",
       " Adults                                       ADULTS\n",
       " Catch-up adults                           CATCHUP_A\n",
       " Catch-up children                         CATCHUP_C\n",
       " General/routine                           B_CHILD_W\n",
       " HPV administered to females and males          BOTH\n",
       " HPV for females only                         FEMALE\n",
       " Health workers                                   HW\n",
       " Pregnant women                                   PW\n",
       " Risk group(s)                            RISKGROUPS\n",
       " Travellers                               TRAVELLERS\n",
       " Name: TARGETPOP, dtype: object,\n",
       " AGEADMINISTERED\n",
       " +D14    RISKGROUPS\n",
       " +D21    RISKGROUPS\n",
       " +D28    RISKGROUPS\n",
       " +D3     RISKGROUPS\n",
       " +D30    RISKGROUPS\n",
       "            ...    \n",
       " М2            None\n",
       " М3            None\n",
       " М4            None\n",
       " М4.5          None\n",
       " М6            None\n",
       " Name: TARGETPOP, Length: 425, dtype: object)"
      ]
     },
     "execution_count": 37,
     "metadata": {},
     "output_type": "execute_result"
    }
   ],
   "source": [
    "# Check the most common TARGETPOP values for each AGEADMINISTERED\n",
    "age_mapping = df_data.groupby(\"AGEADMINISTERED\")[\"TARGETPOP\"].agg(lambda x: x.mode()[0] if not x.mode().empty else None)\n",
    "\n",
    "targetpop_mapping, age_mapping\n"
   ]
  },
  {
   "cell_type": "code",
   "execution_count": 38,
   "metadata": {},
   "outputs": [],
   "source": [
    "# Step 1: Fill missing TARGETPOP based on TARGETPOP_DESCRIPTION\n",
    "df_data[\"TARGETPOP\"] = df_data.apply(\n",
    "    lambda row: targetpop_mapping[row[\"TARGETPOP_DESCRIPTION\"]] if pd.isna(row[\"TARGETPOP\"]) and row[\"TARGETPOP_DESCRIPTION\"] in targetpop_mapping else row[\"TARGETPOP\"],\n",
    "    axis=1\n",
    ")"
   ]
  },
  {
   "cell_type": "code",
   "execution_count": 39,
   "metadata": {},
   "outputs": [],
   "source": [
    "# Step 2: Fill remaining missing TARGETPOP based on AGEADMINISTERED (if a mapping exists)\n",
    "df_data[\"TARGETPOP\"] = df_data.apply(\n",
    "    lambda row: age_mapping[row[\"AGEADMINISTERED\"]] if pd.isna(row[\"TARGETPOP\"]) and row[\"AGEADMINISTERED\"] in age_mapping else row[\"TARGETPOP\"],\n",
    "    axis=1\n",
    ")   "
   ]
  },
  {
   "cell_type": "code",
   "execution_count": 40,
   "metadata": {},
   "outputs": [
    {
     "data": {
      "text/plain": [
       "np.int64(1)"
      ]
     },
     "execution_count": 40,
     "metadata": {},
     "output_type": "execute_result"
    }
   ],
   "source": [
    "# Check how many missing values remain\n",
    "df_data[\"TARGETPOP\"].isna().sum()"
   ]
  },
  {
   "cell_type": "code",
   "execution_count": 41,
   "metadata": {},
   "outputs": [],
   "source": [
    "# Drop the row where TARGETPOP is still missing\n",
    "df_data_cleaned = df_data.dropna(subset=[\"TARGETPOP\"])\n"
   ]
  },
  {
   "cell_type": "code",
   "execution_count": 42,
   "metadata": {},
   "outputs": [
    {
     "data": {
      "text/plain": [
       "(np.int64(0), 8052)"
      ]
     },
     "execution_count": 42,
     "metadata": {},
     "output_type": "execute_result"
    }
   ],
   "source": [
    "# Verify that missing values are fully handled\n",
    "df_data_cleaned[\"TARGETPOP\"].isna().sum(), len(df_data_cleaned)"
   ]
  },
  {
   "cell_type": "code",
   "execution_count": 43,
   "metadata": {},
   "outputs": [],
   "source": [
    "# Step 1: Identify missing values\n",
    "missing_sourcecomment = df_data_cleaned[\"SOURCECOMMENT\"].isna().sum()"
   ]
  },
  {
   "cell_type": "code",
   "execution_count": 44,
   "metadata": {},
   "outputs": [],
   "source": [
    "# Step 2: Create mappings for imputation\n",
    "sourcecomment_mapping_desc = df_data_cleaned.groupby(\"TARGETPOP_DESCRIPTION\")[\"SOURCECOMMENT\"].agg(\n",
    "    lambda x: x.mode()[0] if not x.mode().empty else None\n",
    ")\n",
    "\n",
    "sourcecomment_mapping_age = df_data_cleaned.groupby(\"AGEADMINISTERED\")[\"SOURCECOMMENT\"].agg(\n",
    "    lambda x: x.mode()[0] if not x.mode().empty else None\n",
    ")"
   ]
  },
  {
   "cell_type": "code",
   "execution_count": 45,
   "metadata": {},
   "outputs": [
    {
     "name": "stderr",
     "output_type": "stream",
     "text": [
      "C:\\Users\\OMEN\\AppData\\Local\\Temp\\ipykernel_12868\\3415126033.py:2: SettingWithCopyWarning: \n",
      "A value is trying to be set on a copy of a slice from a DataFrame.\n",
      "Try using .loc[row_indexer,col_indexer] = value instead\n",
      "\n",
      "See the caveats in the documentation: https://pandas.pydata.org/pandas-docs/stable/user_guide/indexing.html#returning-a-view-versus-a-copy\n",
      "  df_data_cleaned[\"SOURCECOMMENT\"] = df_data_cleaned.apply(\n"
     ]
    }
   ],
   "source": [
    "# Step 3: Impute missing values based on TARGETPOP_DESCRIPTION\n",
    "df_data_cleaned[\"SOURCECOMMENT\"] = df_data_cleaned.apply(\n",
    "    lambda row: sourcecomment_mapping_desc[row[\"TARGETPOP_DESCRIPTION\"]] \n",
    "    if pd.isna(row[\"SOURCECOMMENT\"]) and row[\"TARGETPOP_DESCRIPTION\"] in sourcecomment_mapping_desc \n",
    "    else row[\"SOURCECOMMENT\"],\n",
    "    axis=1\n",
    ")"
   ]
  },
  {
   "cell_type": "code",
   "execution_count": 46,
   "metadata": {},
   "outputs": [
    {
     "name": "stderr",
     "output_type": "stream",
     "text": [
      "C:\\Users\\OMEN\\AppData\\Local\\Temp\\ipykernel_12868\\199897407.py:2: SettingWithCopyWarning: \n",
      "A value is trying to be set on a copy of a slice from a DataFrame.\n",
      "Try using .loc[row_indexer,col_indexer] = value instead\n",
      "\n",
      "See the caveats in the documentation: https://pandas.pydata.org/pandas-docs/stable/user_guide/indexing.html#returning-a-view-versus-a-copy\n",
      "  df_data_cleaned[\"SOURCECOMMENT\"] = df_data_cleaned.apply(\n"
     ]
    }
   ],
   "source": [
    "# Step 4: Impute remaining missing values based on AGEADMINISTERED\n",
    "df_data_cleaned[\"SOURCECOMMENT\"] = df_data_cleaned.apply(\n",
    "    lambda row: sourcecomment_mapping_age[row[\"AGEADMINISTERED\"]] \n",
    "    if pd.isna(row[\"SOURCECOMMENT\"]) and row[\"AGEADMINISTERED\"] in sourcecomment_mapping_age \n",
    "    else row[\"SOURCECOMMENT\"],\n",
    "    axis=1\n",
    ")\n"
   ]
  },
  {
   "cell_type": "code",
   "execution_count": 50,
   "metadata": {},
   "outputs": [
    {
     "name": "stdout",
     "output_type": "stream",
     "text": [
      "Updated dataset saved successfully!\n"
     ]
    }
   ],
   "source": [
    "# Step 5: Save the updated dataset\n",
    "updated_file_path = r\"C:\\Users\\OMEN\\OneDrive\\Desktop\\vaccine-schedule-data-cleaned.xlsx\"\n",
    "df_data_cleaned.to_excel(updated_file_path, sheet_name=\"Updated Data\", index=False)\n",
    "\n",
    "print(\"Updated dataset saved successfully!\")"
   ]
  }
 ],
 "metadata": {
  "kernelspec": {
   "display_name": "Python 3",
   "language": "python",
   "name": "python3"
  },
  "language_info": {
   "codemirror_mode": {
    "name": "ipython",
    "version": 3
   },
   "file_extension": ".py",
   "mimetype": "text/x-python",
   "name": "python",
   "nbconvert_exporter": "python",
   "pygments_lexer": "ipython3",
   "version": "3.13.1"
  }
 },
 "nbformat": 4,
 "nbformat_minor": 2
}
