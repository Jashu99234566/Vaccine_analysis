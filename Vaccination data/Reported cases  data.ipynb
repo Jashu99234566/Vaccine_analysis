{
 "cells": [
  {
   "cell_type": "code",
   "execution_count": 1,
   "metadata": {},
   "outputs": [],
   "source": [
    "import pandas as pd"
   ]
  },
  {
   "cell_type": "code",
   "execution_count": 4,
   "metadata": {},
   "outputs": [],
   "source": [
    "# Load the Excel file from the specific location\n",
    "file_path = r\"C:\\Users\\OMEN\\OneDrive\\Desktop\\reported-cases-data.xlsx\"\n",
    "df = pd.read_excel(file_path)"
   ]
  },
  {
   "cell_type": "code",
   "execution_count": 6,
   "metadata": {},
   "outputs": [],
   "source": [
    "# Compute mean Cases for each country-year group\n",
    "mean_cases = df.groupby([\"NAME\", \"YEAR\"])[\"CASES\"].transform(\"mean\")"
   ]
  },
  {
   "cell_type": "code",
   "execution_count": 8,
   "metadata": {},
   "outputs": [],
   "source": [
    "# Fill missing 'CASES' with the mean value of the same country and year\n",
    "df[\"CASES\"] = df[\"CASES\"].fillna(mean_cases)"
   ]
  },
  {
   "cell_type": "code",
   "execution_count": 9,
   "metadata": {},
   "outputs": [],
   "source": [
    "# Save the cleaned data to a new Excel file in the same location\n",
    "output_path = r\"C:\\Users\\OMEN\\OneDrive\\Desktop\\reported-cases-data-cleaned.xlsx\"\n",
    "df.to_excel(output_path, index=False)"
   ]
  }
 ],
 "metadata": {
  "kernelspec": {
   "display_name": "Python 3",
   "language": "python",
   "name": "python3"
  },
  "language_info": {
   "codemirror_mode": {
    "name": "ipython",
    "version": 3
   },
   "file_extension": ".py",
   "mimetype": "text/x-python",
   "name": "python",
   "nbconvert_exporter": "python",
   "pygments_lexer": "ipython3",
   "version": "3.13.1"
  }
 },
 "nbformat": 4,
 "nbformat_minor": 2
}
