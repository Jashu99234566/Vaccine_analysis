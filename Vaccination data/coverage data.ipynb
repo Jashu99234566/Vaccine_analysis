{
 "cells": [
  {
   "cell_type": "code",
   "execution_count": 44,
   "metadata": {},
   "outputs": [],
   "source": [
    "import pandas as pd"
   ]
  },
  {
   "cell_type": "code",
   "execution_count": 45,
   "metadata": {},
   "outputs": [],
   "source": [
    "# Load the full dataset\n",
    "file_path = r\"C:\\Users\\OMEN\\OneDrive\\Desktop\\coverage-data.xlsx\"  \n",
    "xls = pd.ExcelFile(file_path)"
   ]
  },
  {
   "cell_type": "code",
   "execution_count": 46,
   "metadata": {},
   "outputs": [],
   "source": [
    "# Load the data sheet\n",
    "df = pd.read_excel(xls, sheet_name=\"Data\")"
   ]
  },
  {
   "cell_type": "code",
   "execution_count": 47,
   "metadata": {},
   "outputs": [],
   "source": [
    "# Compute mean of TARGET_NUMBER and DOSES for each country\n",
    "mean_values = df.groupby(\"NAME\")[[\"TARGET_NUMBER\", \"DOSES\"]].transform(\"mean\")\n"
   ]
  },
  {
   "cell_type": "code",
   "execution_count": 48,
   "metadata": {},
   "outputs": [],
   "source": [
    "# Fill missing values with the computed mean\n",
    "df[\"TARGET_NUMBER\"] = df[\"TARGET_NUMBER\"].fillna(mean_values[\"TARGET_NUMBER\"])\n",
    "df[\"DOSES\"] = df[\"DOSES\"].fillna(mean_values[\"DOSES\"])\n"
   ]
  },
  {
   "cell_type": "code",
   "execution_count": 49,
   "metadata": {},
   "outputs": [],
   "source": [
    "# Remove rows where both TARGET_NUMBER and DOSES are zero\n",
    "df = df[~((df[\"TARGET_NUMBER\"] == 0) & (df[\"DOSES\"] == 0))]"
   ]
  },
  {
   "cell_type": "code",
   "execution_count": 50,
   "metadata": {},
   "outputs": [],
   "source": [
    "# Save the cleaned dataset in the same location with a new name\n",
    "cleaned_file_path = r\"C:\\Users\\OMEN\\OneDrive\\Desktop\\coverage-data-cleaned.xlsx\"\n",
    "df.to_excel(cleaned_file_path, index=False)"
   ]
  },
  {
   "cell_type": "code",
   "execution_count": 51,
   "metadata": {},
   "outputs": [],
   "source": [
    "# Load the cleaned dataset\n",
    "file_path = r\"C:\\Users\\OMEN\\OneDrive\\Desktop\\coverage-data-cleaned.xlsx\"\n",
    "df = pd.read_excel(file_path)"
   ]
  },
  {
   "cell_type": "code",
   "execution_count": 52,
   "metadata": {},
   "outputs": [],
   "source": [
    "# Remove rows where TARGET_NUMBER, DOSES, and COVERAGE are all zero\n",
    "df = df[~((df[\"TARGET_NUMBER\"] == 0) & (df[\"DOSES\"] == 0) & (df[\"COVERAGE\"] == 0))]"
   ]
  },
  {
   "cell_type": "code",
   "execution_count": 53,
   "metadata": {},
   "outputs": [],
   "source": [
    "# Save the final cleaned dataset\n",
    "final_file_path = r\"C:\\Users\\OMEN\\OneDrive\\Desktop\\final-coverage-data.xlsx\"\n",
    "df.to_excel(final_file_path, index=False)\n"
   ]
  },
  {
   "cell_type": "code",
   "execution_count": 60,
   "metadata": {},
   "outputs": [],
   "source": [
    "\n",
    "# Load the dataset\n",
    "file_path = r\"C:\\Users\\OMEN\\OneDrive\\Desktop\\final-coverage-data.xlsx\"\n",
    "df = pd.read_excel(file_path)"
   ]
  },
  {
   "cell_type": "code",
   "execution_count": 61,
   "metadata": {},
   "outputs": [],
   "source": [
    "# Fill missing TARGET_NUMBER\n",
    "mask_target = df[\"TARGET_NUMBER\"].isna() & df[\"DOSES\"].notna() & df[\"COVERAGE\"].notna()\n",
    "df.loc[mask_target, \"TARGET_NUMBER\"] = (df[\"DOSES\"] * 100 / df[\"COVERAGE\"]).round(2)"
   ]
  },
  {
   "cell_type": "code",
   "execution_count": 62,
   "metadata": {},
   "outputs": [],
   "source": [
    "# Fill missing DOSES\n",
    "mask_doses = df[\"DOSES\"].isna() & df[\"TARGET_NUMBER\"].notna() & df[\"COVERAGE\"].notna()\n",
    "df.loc[mask_doses, \"DOSES\"] = (df[\"TARGET_NUMBER\"] * df[\"COVERAGE\"] / 100).round(2)"
   ]
  },
  {
   "cell_type": "code",
   "execution_count": 63,
   "metadata": {},
   "outputs": [],
   "source": [
    "# Fill missing COVERAGE\n",
    "mask_coverage = df[\"COVERAGE\"].isna() & df[\"TARGET_NUMBER\"].notna() & df[\"DOSES\"].notna()\n",
    "df.loc[mask_coverage, \"COVERAGE\"] = (df[\"DOSES\"] / df[\"TARGET_NUMBER\"] * 100).round(2)"
   ]
  },
  {
   "cell_type": "code",
   "execution_count": 64,
   "metadata": {},
   "outputs": [],
   "source": [
    "# Save the final cleaned dataset\n",
    "finished_file_path = r\"C:\\Users\\OMEN\\OneDrive\\Desktop\\finished-coverage-data.xlsx\"\n",
    "df.to_excel(finished_file_path, index=False)"
   ]
  },
  {
   "cell_type": "code",
   "execution_count": 66,
   "metadata": {},
   "outputs": [],
   "source": [
    "# Load the dataset\n",
    "file_path = r\"C:\\Users\\OMEN\\OneDrive\\Desktop\\finished-coverage-data.xlsx\"\n",
    "df = pd.read_excel(file_path)"
   ]
  },
  {
   "cell_type": "code",
   "execution_count": 68,
   "metadata": {},
   "outputs": [],
   "source": [
    "# Fill missing COVERAGE based on the mean for the same country and year\n",
    "df[\"COVERAGE\"] = df.groupby([\"NAME\", \"YEAR\"])[\"COVERAGE\"].transform(lambda x: x.fillna(round(x.mean(), 2)))"
   ]
  },
  {
   "cell_type": "code",
   "execution_count": 69,
   "metadata": {},
   "outputs": [],
   "source": [
    "# Save the final cleaned dataset\n",
    "finished_file_path = r\"C:\\Users\\OMEN\\OneDrive\\Desktop\\ready-coverage-data.xlsx\"\n",
    "df.to_excel(finished_file_path, index=False)"
   ]
  },
  {
   "cell_type": "code",
   "execution_count": 70,
   "metadata": {},
   "outputs": [],
   "source": [
    "# Load the dataset\n",
    "file_path = r\"C:\\Users\\OMEN\\OneDrive\\Desktop\\ready-coverage-data.xlsx\"\n",
    "df = pd.read_excel(file_path)"
   ]
  },
  {
   "cell_type": "code",
   "execution_count": 71,
   "metadata": {},
   "outputs": [],
   "source": [
    "# Drop rows where any of the columns have empty values\n",
    "df.dropna(subset=[\"TARGET_NUMBER\", \"DOSES\", \"COVERAGE\"], inplace=True)"
   ]
  },
  {
   "cell_type": "code",
   "execution_count": 72,
   "metadata": {},
   "outputs": [],
   "source": [
    "# Save the final cleaned dataset\n",
    "finished_file_path = r\"C:\\Users\\OMEN\\OneDrive\\Desktop\\cleaned-coverage-data.xlsx\"\n",
    "df.to_excel(finished_file_path, index=False)"
   ]
  }
 ],
 "metadata": {
  "kernelspec": {
   "display_name": "Python 3",
   "language": "python",
   "name": "python3"
  },
  "language_info": {
   "codemirror_mode": {
    "name": "ipython",
    "version": 3
   },
   "file_extension": ".py",
   "mimetype": "text/x-python",
   "name": "python",
   "nbconvert_exporter": "python",
   "pygments_lexer": "ipython3",
   "version": "3.13.1"
  }
 },
 "nbformat": 4,
 "nbformat_minor": 2
}
